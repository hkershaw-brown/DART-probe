{
 "cells": [
  {
   "cell_type": "code",
   "execution_count": null,
   "metadata": {},
   "outputs": [
    {
     "name": "stdout",
     "output_type": "stream",
     "text": [
      "\n",
      " --------------------------------------\n",
      " Starting ... at YYYY MM DD HH MM SS = \n",
      "                 2025  4  1 15 28 12\n",
      " --------------------------------------\n",
      "\n",
      "  set_nml_output No echo of NML values\n",
      "  location_mod: using code with optimized cutoffs\n",
      "  location_mod: Including vertical separation when computing distances:\n",
      "  location_mod:        # pascals ~ 1 horiz radian:      100000.00000\n",
      "  location_mod:         # meters ~ 1 horiz radian:       10000.00000\n",
      "  location_mod:   # model levels ~ 1 horiz radian:          20.00000\n",
      "  location_mod:  # scale heights ~ 1 horiz radian:           5.00000\n"
     ]
    }
   ],
   "source": [
    "import numpy as np\n",
    "from ice_interp import ice_interp_mod\n",
    "\n",
    "\n",
    "# Define input values\n",
    "lon = np.float64(255.070312500000)  # Interpolation point longitude (degrees)\n",
    "lat = np.float64(74.4735717773438)  # Interpolation point latitude (degrees)\n",
    "\n",
    "x_corners = np.array([253.978338312172, 254.698325218660, 256.152459376863, 255.464594303337], dtype=np.float64)\n",
    "y_corners = np.array([74.4775053981321, 74.2803767364551, 74.6534788353970, 74.8496146897753], dtype=np.float64)\n",
    "p = np.array([0.04222093679422526, 0.02939444349332336, 0.02361927128232367, 0.02457275269829678], dtype=np.float64)  # Values at the quadrilateral corners\n",
    "\n",
    "# Prepare output variable\n",
    "expected_obs = np.zeros(1, dtype=np.float64)\n",
    "\n",
    "# Initialize the Fortran module\n",
    "ice_interp_mod.init()\n",
    "\n",
    "# this call is so init location_mod is called, and does all its print outs\n",
    "expected_obs = ice_interp_mod.quad_idw_interp_f2py(\n",
    "        lon, lat, x_corners, y_corners, p\n",
    ")\n",
    "\n"
   ]
  },
  {
   "cell_type": "code",
   "execution_count": 2,
   "metadata": {},
   "outputs": [
    {
     "name": "stdout",
     "output_type": "stream",
     "text": [
      "Interpolated value at (255.0703125, 74.4735717773438): 0.03081763984660563\n",
      "Interpolated value at (255.0703125, 74.4735717773438): 0.03081763984660563\n",
      "Interpolated value at (255.0703125, 74.4735717773438): 0.03081763984660563\n",
      "Interpolated value at (255.0703125, 74.4735717773438): 0.03081763984660563\n",
      "Interpolated value at (255.0703125, 74.4735717773438): 0.03081763984660563\n",
      "Interpolated value at (255.0703125, 74.4735717773438): 0.03081763984660563\n",
      "Interpolated value at (255.0703125, 74.4735717773438): 0.03081763984660563\n",
      "Interpolated value at (255.0703125, 74.4735717773438): 0.03081763984660563\n",
      "Interpolated value at (255.0703125, 74.4735717773438): 0.03081763984660563\n",
      "Interpolated value at (255.0703125, 74.4735717773438): 0.03081763984660563\n"
     ]
    }
   ],
   "source": [
    "# Call the Fortran subroutine\n",
    "for i in range(10):\n",
    "    expected_obs = ice_interp_mod.quad_idw_interp_f2py(\n",
    "        lon, lat, x_corners, y_corners, p\n",
    "    )\n",
    "    # Print the result\n",
    "    print(f\"Interpolated value at ({lon}, {lat}): {expected_obs}\")\n"
   ]
  },
  {
   "cell_type": "code",
   "execution_count": null,
   "metadata": {},
   "outputs": [],
   "source": []
  }
 ],
 "metadata": {
  "kernelspec": {
   "display_name": "py-int",
   "language": "python",
   "name": "python3"
  },
  "language_info": {
   "codemirror_mode": {
    "name": "ipython",
    "version": 3
   },
   "file_extension": ".py",
   "mimetype": "text/x-python",
   "name": "python",
   "nbconvert_exporter": "python",
   "pygments_lexer": "ipython3",
   "version": "3.13.2"
  }
 },
 "nbformat": 4,
 "nbformat_minor": 2
}
